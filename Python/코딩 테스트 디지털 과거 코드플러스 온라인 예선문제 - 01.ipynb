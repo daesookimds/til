{
 "cells": [
  {
   "cell_type": "markdown",
   "metadata": {},
   "source": [
    "### 1. 날짜순으로 메모를 정렬하라\n",
    "\n",
    " 문제의 입력값은 각 언어의 표준입력(stdin) 함수를, 출력값은 표준출력(stdout) 함수를 사용해주세요.\n",
    "서울 잠실의 배민은행에 3인조 은행강도가 들어서 100억 원 상당의 현금을 강탈했습니다.\n",
    "경찰은 용의자들의 집을 급습하여 여러 장의 메모들을 증거로 확보했는데요.\n",
    "강도 3명의 메모가 제각각이라 날짜 순서대로 메모들을 정렬해서 보려고 합니다.\n",
    "다음의 메모들을 날짜순으로 정렬해주세요.\n",
    "\n",
    "입력조건\n",
    "1. 표준입력으로 메모 한 장의 내용이 한 줄로 주어집니다.\n",
    "2. 메모 내용 중 날짜는 2018/7/8, 2018-7-8, 2018년7월8일의 형태로 주어집니다. \n",
    "3. 년도에 2자리 숫자만 온다면 20XX년으로 가정합니다. 월과 일이 1~9 범위의 숫자인 경우 0 이 있을 수도 있고 없을 수도 있습니다. \n",
    "4. 모든 메모에는 날짜가 반드시 1번만 포함됩니다.\n",
    "5. 입력의 마지막으로 END가 주어집니다.\n",
    "\n",
    "출력조건\n",
    "1. 날짜 오름차순으로 메모 내용을 한 줄씩 출력합니다. ( 2018년 메모와 2019년 메모가 있다면 2018년 메모를 먼저 출력합니다. )\n",
    "2. 출력되는 메모의 내용은 입력받은 메모 내용 그대로 출력해야 합니다.\n"
   ]
  },
  {
   "cell_type": "markdown",
   "metadata": {},
   "source": [
    "### 입/출력 예시\n",
    "⋇ 입출력 형식을 잘 지켜주세요.\n",
    "```\n",
    "␣ : 공백\n",
    "↵ : 줄바꿈\n",
    "−⇥ : 탭\n",
    "```\n",
    "\n",
    "- 보기 입력\n",
    "```\n",
    "\"2018/7/3 ␣배민은행의 ␣구조도를 ␣손에 ␣넣었다. ␣필요한 ␣장비는 ␣이런거 ␣저런거 ␣해서 ␣각자 ␣준비해야한다.\"↵\n",
    "\"타깃 ␣은행은 ␣잠실에 ␣있는 ␣배민은행으로 ␣한다. ␣18년06월13일\"↵\n",
    "\"배민은행앞 ␣별다방에서 ␣18-06-12에 ␣만나기로 ␣함\"↵\n",
    "END↵\n",
    "```\n",
    "- 출력\n",
    "```\n",
    "\"배민은행앞 ␣별다방에서 ␣18-06-12에 ␣만나기로 ␣함\"↵\n",
    "\"타깃 ␣은행은 ␣잠실에 ␣있는 ␣배민은행으로 ␣한다. ␣18년06월13일\"↵\n",
    "\"2018/7/3 ␣배민은행의 ␣구조도를 ␣손에 ␣넣었다. ␣필요한 ␣장비는 ␣이런거 ␣저런거 ␣해서 ␣각자 ␣준비해야한다.\"\n",
    "```"
   ]
  },
  {
   "cell_type": "code",
   "execution_count": 1,
   "metadata": {},
   "outputs": [],
   "source": [
    "import re\n",
    "import datetime\n",
    "import operator"
   ]
  },
  {
   "cell_type": "code",
   "execution_count": 2,
   "metadata": {},
   "outputs": [
    {
     "name": "stdout",
     "output_type": "stream",
     "text": [
      "\"2018/7/3 배민은행의 구조도를 손에 넣었다. 필요한 장비는 이런거 저런거 해서 각자 준비해야한다.\"\n",
      "\"타깃 은행은 잠실에 있는 배민은행으로 한다. 18년06월13일\"\n",
      "\"배민은행앞 별다방에서 18-06-12에 만나기로 함\"\n",
      "END\n"
     ]
    }
   ],
   "source": [
    "contents = []\n",
    "line = ''\n",
    "while line != 'END':\n",
    "    line = input()\n",
    "    contents.append(line)"
   ]
  },
  {
   "cell_type": "code",
   "execution_count": 3,
   "metadata": {},
   "outputs": [
    {
     "data": {
      "text/plain": [
       "['\"2018/7/3 배민은행의 구조도를 손에 넣었다. 필요한 장비는 이런거 저런거 해서 각자 준비해야한다.\"',\n",
       " '\"타깃 은행은 잠실에 있는 배민은행으로 한다. 18년06월13일\"',\n",
       " '\"배민은행앞 별다방에서 18-06-12에 만나기로 함\"',\n",
       " 'END']"
      ]
     },
     "execution_count": 3,
     "metadata": {},
     "output_type": "execute_result"
    }
   ],
   "source": [
    "contents"
   ]
  },
  {
   "cell_type": "code",
   "execution_count": 4,
   "metadata": {},
   "outputs": [],
   "source": [
    "def make_dt(index1, index2):\n",
    "\n",
    "    before_str = contents[index1].replace('\"',\"\").split(\" \")[index2]\n",
    "    after_str = re.sub(\"[년|월|일]\", \"-\", before_str)\n",
    "\n",
    "    Pattern = contents[index1].replace('\"',\"\").split(\" \")[index2]\n",
    "    m = re.search(r'\\d+[-/]\\d+[-/]\\d+', after_str)\n",
    "    \n",
    "    return m.group(0), index1"
   ]
  },
  {
   "cell_type": "code",
   "execution_count": 5,
   "metadata": {},
   "outputs": [],
   "source": [
    "def change_to_dt(date):\n",
    "    \n",
    "    if '-' in date:\n",
    "        dt = datetime.datetime.strptime(date, \"%y-%m-%d\").date()\n",
    "    else:\n",
    "        dt = datetime.datetime.strptime(date, \"%Y/%m/%d\").date()\n",
    "    \n",
    "    return dt"
   ]
  },
  {
   "cell_type": "code",
   "execution_count": 6,
   "metadata": {},
   "outputs": [],
   "source": [
    "ls = {}\n",
    "idx = []\n",
    "for index1 in range(0, len(contents) - 1):\n",
    "    contents_list = contents[index1].replace('\"',\"\").split(\" \")\n",
    "    for index2 in range(0, len(contents_list)):\n",
    "        if '년' in contents_list[index2] and '월' in contents_list[index2] and '일' in contents_list[index2]:\n",
    "            idx1 = index1\n",
    "            idx2 = index2\n",
    "        elif '-' in contents_list[index2]:\n",
    "            idx1 = index1\n",
    "            idx2 = index2\n",
    "        elif '/' in contents_list[index2]:\n",
    "            idx1 = index1\n",
    "            idx2 = index2\n",
    "        else:\n",
    "            continue\n",
    "    \n",
    "            \n",
    "    m, index = make_dt(idx1, idx2)\n",
    "    dt = change_to_dt(m)\n",
    "    \n",
    "    ls[index] = dt"
   ]
  },
  {
   "cell_type": "code",
   "execution_count": 7,
   "metadata": {},
   "outputs": [
    {
     "name": "stdout",
     "output_type": "stream",
     "text": [
      "\"배민은행앞 별다방에서 18-06-12에 만나기로 함\"\n",
      "\"타깃 은행은 잠실에 있는 배민은행으로 한다. 18년06월13일\"\n",
      "\"2018/7/3 배민은행의 구조도를 손에 넣었다. 필요한 장비는 이런거 저런거 해서 각자 준비해야한다.\"\n"
     ]
    }
   ],
   "source": [
    "sorted_ls = sorted(ls.items(), key=operator.itemgetter(1))\n",
    "\n",
    "for i in range(0, len(sorted_ls)):\n",
    "    print(contents[sorted_ls[i][0]])"
   ]
  }
 ],
 "metadata": {
  "kernelspec": {
   "display_name": "Python 3",
   "language": "python",
   "name": "python3"
  },
  "language_info": {
   "codemirror_mode": {
    "name": "ipython",
    "version": 3
   },
   "file_extension": ".py",
   "mimetype": "text/x-python",
   "name": "python",
   "nbconvert_exporter": "python",
   "pygments_lexer": "ipython3",
   "version": "3.6.6"
  }
 },
 "nbformat": 4,
 "nbformat_minor": 2
}
