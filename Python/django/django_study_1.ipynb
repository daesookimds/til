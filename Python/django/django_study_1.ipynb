{
 "cells": [
  {
   "cell_type": "markdown",
   "metadata": {},
   "source": [
    "### 2019 - 11 - 18"
   ]
  },
  {
   "cell_type": "markdown",
   "metadata": {},
   "source": [
    "### environment settings"
   ]
  },
  {
   "cell_type": "markdown",
   "metadata": {},
   "source": [
    "- pip3 install virtualenv\n",
    "- source venv/bin/activate\n",
    "- pip3 install django"
   ]
  },
  {
   "cell_type": "markdown",
   "metadata": {},
   "source": [
    "### MVC(model, view, templates)\n",
    "\n",
    "- model = table, db\n",
    "- view\n",
    "- templates"
   ]
  },
  {
   "cell_type": "markdown",
   "metadata": {},
   "source": [
    "### basic command"
   ]
  },
  {
   "cell_type": "markdown",
   "metadata": {},
   "source": [
    "- django-admin createproject project_name = make project\n",
    "- django-admin createapp app_name = make app\n",
    "- python3 manage.py makemigrations = it makes codes when model, db, table changes\n",
    "- python3 manage.py migrate = migration execute\n",
    "- python3 manage.py runserver = start server"
   ]
  }
 ],
 "metadata": {
  "kernelspec": {
   "display_name": "Python 3",
   "language": "python",
   "name": "python3"
  },
  "language_info": {
   "codemirror_mode": {
    "name": "ipython",
    "version": 3
   },
   "file_extension": ".py",
   "mimetype": "text/x-python",
   "name": "python",
   "nbconvert_exporter": "python",
   "pygments_lexer": "ipython3",
   "version": "3.6.6"
  }
 },
 "nbformat": 4,
 "nbformat_minor": 2
}
